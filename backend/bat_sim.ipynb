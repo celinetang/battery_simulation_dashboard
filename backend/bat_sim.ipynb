{
 "cells": [
  {
   "cell_type": "code",
   "execution_count": 1,
   "metadata": {},
   "outputs": [],
   "source": [
    "import pybamm\n",
    "import matplotlib as plt\n"
   ]
  },
  {
   "cell_type": "code",
   "execution_count": 2,
   "metadata": {},
   "outputs": [],
   "source": [
    "model = pybamm.lithium_ion.DFN()"
   ]
  },
  {
   "cell_type": "code",
   "execution_count": 3,
   "metadata": {},
   "outputs": [],
   "source": [
    "sim = pybamm.Simulation(model)"
   ]
  },
  {
   "cell_type": "code",
   "execution_count": 4,
   "metadata": {},
   "outputs": [
    {
     "data": {
      "text/plain": [
       "<pybamm.solvers.solution.Solution at 0x318ca25d0>"
      ]
     },
     "execution_count": 4,
     "metadata": {},
     "output_type": "execute_result"
    }
   ],
   "source": [
    "sim.solve([0, 3600])"
   ]
  },
  {
   "cell_type": "code",
   "execution_count": 5,
   "metadata": {},
   "outputs": [
    {
     "data": {
      "application/vnd.jupyter.widget-view+json": {
       "model_id": "ee46d75501a54b0d8cb61d4a58929c90",
       "version_major": 2,
       "version_minor": 0
      },
      "text/plain": [
       "interactive(children=(FloatSlider(value=0.0, description='t', max=1.0, step=0.01), Output()), _dom_classes=('w…"
      ]
     },
     "metadata": {},
     "output_type": "display_data"
    },
    {
     "data": {
      "text/plain": [
       "<pybamm.plotting.quick_plot.QuickPlot at 0x318a91d60>"
      ]
     },
     "execution_count": 5,
     "metadata": {},
     "output_type": "execute_result"
    }
   ],
   "source": [
    "sim.plot()"
   ]
  },
  {
   "cell_type": "markdown",
   "metadata": {},
   "source": [
    "Compare models"
   ]
  },
  {
   "cell_type": "code",
   "execution_count": 6,
   "metadata": {},
   "outputs": [],
   "source": [
    "models = [\n",
    "    pybamm.lithium_ion.SPM(),\n",
    "    pybamm.lithium_ion.SPMe(),\n",
    "    pybamm.lithium_ion.DFN(),\n",
    "]\n"
   ]
  },
  {
   "cell_type": "code",
   "execution_count": 7,
   "metadata": {},
   "outputs": [],
   "source": [
    "sims = []\n",
    "for model in models:\n",
    "    sim = pybamm.Simulation(model)\n",
    "    sim.solve([0, 3600])\n",
    "    sims.append(sim)"
   ]
  },
  {
   "cell_type": "code",
   "execution_count": 8,
   "metadata": {},
   "outputs": [
    {
     "data": {
      "application/vnd.jupyter.widget-view+json": {
       "model_id": "10a1c1d67df948f18119a234edfaf299",
       "version_major": 2,
       "version_minor": 0
      },
      "text/plain": [
       "interactive(children=(FloatSlider(value=0.0, description='t', max=1.0, step=0.01), Output()), _dom_classes=('w…"
      ]
     },
     "metadata": {},
     "output_type": "display_data"
    },
    {
     "data": {
      "text/plain": [
       "<pybamm.plotting.quick_plot.QuickPlot at 0x31be16930>"
      ]
     },
     "execution_count": 8,
     "metadata": {},
     "output_type": "execute_result"
    }
   ],
   "source": [
    "pybamm.dynamic_plot(sims)"
   ]
  },
  {
   "cell_type": "code",
   "execution_count": 9,
   "metadata": {},
   "outputs": [
    {
     "data": {
      "text/plain": [
       "['Time [s]',\n",
       " 'Time [min]',\n",
       " 'Time [h]',\n",
       " 'x [m]',\n",
       " 'x_n [m]',\n",
       " 'x_s [m]',\n",
       " 'x_p [m]',\n",
       " 'r_n [m]',\n",
       " 'r_p [m]',\n",
       " 'Current variable [A]',\n",
       " 'Total current density [A.m-2]',\n",
       " 'Current [A]',\n",
       " 'C-rate',\n",
       " 'Discharge capacity [A.h]',\n",
       " 'Throughput capacity [A.h]',\n",
       " 'Discharge energy [W.h]',\n",
       " 'Throughput energy [W.h]',\n",
       " 'Porosity',\n",
       " 'Negative electrode porosity',\n",
       " 'X-averaged negative electrode porosity',\n",
       " 'Separator porosity',\n",
       " 'X-averaged separator porosity',\n",
       " 'Positive electrode porosity',\n",
       " 'X-averaged positive electrode porosity',\n",
       " 'Porosity change',\n",
       " 'Negative electrode porosity change [s-1]',\n",
       " 'X-averaged negative electrode porosity change [s-1]',\n",
       " 'Separator porosity change [s-1]',\n",
       " 'X-averaged separator porosity change [s-1]',\n",
       " 'Positive electrode porosity change [s-1]',\n",
       " 'X-averaged positive electrode porosity change [s-1]',\n",
       " 'Negative electrode interface utilisation variable',\n",
       " 'X-averaged negative electrode interface utilisation variable',\n",
       " 'Negative electrode interface utilisation',\n",
       " 'X-averaged negative electrode interface utilisation',\n",
       " 'Positive electrode interface utilisation variable',\n",
       " 'X-averaged positive electrode interface utilisation variable',\n",
       " 'Positive electrode interface utilisation',\n",
       " 'X-averaged positive electrode interface utilisation',\n",
       " 'Negative particle crack length [m]',\n",
       " 'X-averaged negative particle crack length [m]',\n",
       " 'Negative particle cracking rate [m.s-1]',\n",
       " 'X-averaged negative particle cracking rate [m.s-1]',\n",
       " 'Positive particle crack length [m]',\n",
       " 'X-averaged positive particle crack length [m]',\n",
       " 'Positive particle cracking rate [m.s-1]',\n",
       " 'X-averaged positive particle cracking rate [m.s-1]',\n",
       " 'Negative electrode active material volume fraction',\n",
       " 'X-averaged negative electrode active material volume fraction',\n",
       " 'Negative electrode capacity [A.h]',\n",
       " 'Negative particle radius',\n",
       " 'Negative particle radius [m]',\n",
       " 'X-averaged negative particle radius [m]',\n",
       " 'Negative electrode surface area to volume ratio [m-1]',\n",
       " 'X-averaged negative electrode surface area to volume ratio [m-1]',\n",
       " 'Negative electrode active material volume fraction change [s-1]',\n",
       " 'X-averaged negative electrode active material volume fraction change [s-1]',\n",
       " 'Loss of lithium due to loss of active material in negative electrode [mol]',\n",
       " 'Positive electrode active material volume fraction',\n",
       " 'X-averaged positive electrode active material volume fraction',\n",
       " 'Positive electrode capacity [A.h]',\n",
       " 'Positive particle radius',\n",
       " 'Positive particle radius [m]',\n",
       " 'X-averaged positive particle radius [m]',\n",
       " 'Positive electrode surface area to volume ratio [m-1]',\n",
       " 'X-averaged positive electrode surface area to volume ratio [m-1]',\n",
       " 'Positive electrode active material volume fraction change [s-1]',\n",
       " 'X-averaged positive electrode active material volume fraction change [s-1]',\n",
       " 'Loss of lithium due to loss of active material in positive electrode [mol]',\n",
       " 'Separator pressure [Pa]',\n",
       " 'X-averaged separator pressure [Pa]',\n",
       " 'negative electrode transverse volume-averaged velocity [m.s-1]',\n",
       " 'X-averaged negative electrode transverse volume-averaged velocity [m.s-1]',\n",
       " 'separator transverse volume-averaged velocity [m.s-1]',\n",
       " 'X-averaged separator transverse volume-averaged velocity [m.s-1]',\n",
       " 'positive electrode transverse volume-averaged velocity [m.s-1]',\n",
       " 'X-averaged positive electrode transverse volume-averaged velocity [m.s-1]',\n",
       " 'Transverse volume-averaged velocity [m.s-1]',\n",
       " 'negative electrode transverse volume-averaged acceleration [m.s-2]',\n",
       " 'X-averaged negative electrode transverse volume-averaged acceleration [m.s-2]',\n",
       " 'separator transverse volume-averaged acceleration [m.s-2]',\n",
       " 'X-averaged separator transverse volume-averaged acceleration [m.s-2]',\n",
       " 'positive electrode transverse volume-averaged acceleration [m.s-2]',\n",
       " 'X-averaged positive electrode transverse volume-averaged acceleration [m.s-2]',\n",
       " 'Transverse volume-averaged acceleration [m.s-2]',\n",
       " 'Negative electrode volume-averaged velocity [m.s-1]',\n",
       " 'Negative electrode volume-averaged acceleration [m.s-2]',\n",
       " 'X-averaged negative electrode volume-averaged acceleration [m.s-2]',\n",
       " 'Negative electrode pressure [Pa]',\n",
       " 'X-averaged negative electrode pressure [Pa]',\n",
       " 'Positive electrode volume-averaged velocity [m.s-1]',\n",
       " 'Positive electrode volume-averaged acceleration [m.s-2]',\n",
       " 'X-averaged positive electrode volume-averaged acceleration [m.s-2]',\n",
       " 'Positive electrode pressure [Pa]',\n",
       " 'X-averaged positive electrode pressure [Pa]',\n",
       " 'Negative particle concentration [mol.m-3]',\n",
       " 'X-averaged negative particle concentration [mol.m-3]',\n",
       " 'R-averaged negative particle concentration [mol.m-3]',\n",
       " 'Average negative particle concentration [mol.m-3]',\n",
       " 'Negative particle surface concentration [mol.m-3]',\n",
       " 'X-averaged negative particle surface concentration [mol.m-3]',\n",
       " 'Minimum negative particle concentration [mol.m-3]',\n",
       " 'Maximum negative particle concentration [mol.m-3]',\n",
       " 'Minimum negative particle Minimum negative particle surface concentration [mol.m-3]',\n",
       " 'Maximum negative particle surface concentration [mol.m-3]',\n",
       " 'Negative particle concentration',\n",
       " 'X-averaged negative particle concentration',\n",
       " 'R-averaged negative particle concentration',\n",
       " 'Average negative particle concentration',\n",
       " 'Negative particle surface concentration',\n",
       " 'X-averaged negative particle surface concentration',\n",
       " 'Minimum negative particle concentration',\n",
       " 'Maximum negative particle concentration',\n",
       " 'Minimum negative particle surface concentration',\n",
       " 'Maximum negative particle surface concentration',\n",
       " 'Negative particle stoichiometry',\n",
       " 'X-averaged negative particle stoichiometry',\n",
       " 'R-averaged negative particle stoichiometry',\n",
       " 'Average negative particle stoichiometry',\n",
       " 'Negative particle surface stoichiometry',\n",
       " 'X-averaged negative particle surface stoichiometry',\n",
       " 'Minimum negative particle stoichiometry',\n",
       " 'Maximum negative particle stoichiometry',\n",
       " 'Minimum negative particle surface stoichiometry',\n",
       " 'Maximum negative particle surface stoichiometry',\n",
       " 'Negative electrode extent of lithiation',\n",
       " 'X-averaged negative electrode extent of lithiation',\n",
       " 'Positive particle concentration [mol.m-3]',\n",
       " 'X-averaged positive particle concentration [mol.m-3]',\n",
       " 'R-averaged positive particle concentration [mol.m-3]',\n",
       " 'Average positive particle concentration [mol.m-3]',\n",
       " 'Positive particle surface concentration [mol.m-3]',\n",
       " 'X-averaged positive particle surface concentration [mol.m-3]',\n",
       " 'Minimum positive particle concentration [mol.m-3]',\n",
       " 'Maximum positive particle concentration [mol.m-3]',\n",
       " 'Minimum positive particle Minimum positive particle surface concentration [mol.m-3]',\n",
       " 'Maximum positive particle surface concentration [mol.m-3]',\n",
       " 'Positive particle concentration',\n",
       " 'X-averaged positive particle concentration',\n",
       " 'R-averaged positive particle concentration',\n",
       " 'Average positive particle concentration',\n",
       " 'Positive particle surface concentration',\n",
       " 'X-averaged positive particle surface concentration',\n",
       " 'Minimum positive particle concentration',\n",
       " 'Maximum positive particle concentration',\n",
       " 'Minimum positive particle surface concentration',\n",
       " 'Maximum positive particle surface concentration',\n",
       " 'Positive particle stoichiometry',\n",
       " 'X-averaged positive particle stoichiometry',\n",
       " 'R-averaged positive particle stoichiometry',\n",
       " 'Average positive particle stoichiometry',\n",
       " 'Positive particle surface stoichiometry',\n",
       " 'X-averaged positive particle surface stoichiometry',\n",
       " 'Minimum positive particle stoichiometry',\n",
       " 'Maximum positive particle stoichiometry',\n",
       " 'Minimum positive particle surface stoichiometry',\n",
       " 'Maximum positive particle surface stoichiometry',\n",
       " 'Positive electrode extent of lithiation',\n",
       " 'X-averaged positive electrode extent of lithiation',\n",
       " 'Negative electrode potential [V]',\n",
       " 'X-averaged negative electrode potential [V]',\n",
       " 'Negative electrode ohmic losses [V]',\n",
       " 'X-averaged negative electrode ohmic losses [V]',\n",
       " 'Gradient of negative electrode potential [V.m-1]',\n",
       " 'Positive electrode potential [V]',\n",
       " 'X-averaged positive electrode potential [V]',\n",
       " 'Positive electrode ohmic losses [V]',\n",
       " 'X-averaged positive electrode ohmic losses [V]',\n",
       " 'Gradient of positive electrode potential [V.m-1]',\n",
       " 'Porosity times concentration [mol.m-3]',\n",
       " 'Negative electrode porosity times concentration [mol.m-3]',\n",
       " 'Separator porosity times concentration [mol.m-3]',\n",
       " 'Positive electrode porosity times concentration [mol.m-3]',\n",
       " 'Total lithium in electrolyte [mol]',\n",
       " 'Electrolyte potential [V]',\n",
       " 'X-averaged electrolyte potential [V]',\n",
       " 'X-averaged electrolyte overpotential [V]',\n",
       " 'Gradient of electrolyte potential [V.m-1]',\n",
       " 'Negative electrolyte potential [V]',\n",
       " 'X-averaged negative electrolyte potential [V]',\n",
       " 'Gradient of negative electrolyte potential [V.m-1]',\n",
       " 'Separator electrolyte potential [V]',\n",
       " 'X-averaged separator electrolyte potential [V]',\n",
       " 'Gradient of separator electrolyte potential [V.m-1]',\n",
       " 'Positive electrolyte potential [V]',\n",
       " 'X-averaged positive electrolyte potential [V]',\n",
       " 'Gradient of positive electrolyte potential [V.m-1]',\n",
       " 'Ambient temperature [K]',\n",
       " 'Volume-averaged ambient temperature [K]',\n",
       " 'Cell temperature [K]',\n",
       " 'Negative current collector temperature [K]',\n",
       " 'Positive current collector temperature [K]',\n",
       " 'X-averaged cell temperature [K]',\n",
       " 'Volume-averaged cell temperature [K]',\n",
       " 'Negative electrode temperature [K]',\n",
       " 'X-averaged negative electrode temperature [K]',\n",
       " 'Separator temperature [K]',\n",
       " 'X-averaged separator temperature [K]',\n",
       " 'Positive electrode temperature [K]',\n",
       " 'X-averaged positive electrode temperature [K]',\n",
       " 'Ambient temperature [C]',\n",
       " 'Volume-averaged ambient temperature [C]',\n",
       " 'Cell temperature [C]',\n",
       " 'Negative current collector temperature [C]',\n",
       " 'Positive current collector temperature [C]',\n",
       " 'X-averaged cell temperature [C]',\n",
       " 'Volume-averaged cell temperature [C]',\n",
       " 'Negative electrode temperature [C]',\n",
       " 'X-averaged negative electrode temperature [C]',\n",
       " 'Separator temperature [C]',\n",
       " 'X-averaged separator temperature [C]',\n",
       " 'Positive electrode temperature [C]',\n",
       " 'X-averaged positive electrode temperature [C]',\n",
       " 'Negative current collector potential [V]',\n",
       " 'Negative inner SEI thickness [m]',\n",
       " 'Negative outer SEI thickness [m]',\n",
       " 'X-averaged negative inner SEI thickness [m]',\n",
       " 'X-averaged negative outer SEI thickness [m]',\n",
       " 'Negative SEI [m]',\n",
       " 'Negative total SEI thickness [m]',\n",
       " 'X-averaged negative SEI thickness [m]',\n",
       " 'X-averaged negative total SEI thickness [m]',\n",
       " 'X-averaged negative electrode resistance [Ohm.m2]',\n",
       " 'Negative electrode inner SEI interfacial current density [A.m-2]',\n",
       " 'X-averaged negative electrode inner SEI interfacial current density [A.m-2]',\n",
       " 'Negative electrode outer SEI interfacial current density [A.m-2]',\n",
       " 'X-averaged negative electrode outer SEI interfacial current density [A.m-2]',\n",
       " 'Negative electrode SEI interfacial current density [A.m-2]',\n",
       " 'X-averaged negative electrode SEI interfacial current density [A.m-2]',\n",
       " 'Positive inner SEI thickness [m]',\n",
       " 'Positive outer SEI thickness [m]',\n",
       " 'X-averaged positive inner SEI thickness [m]',\n",
       " 'X-averaged positive outer SEI thickness [m]',\n",
       " 'Positive SEI [m]',\n",
       " 'Positive total SEI thickness [m]',\n",
       " 'X-averaged positive SEI thickness [m]',\n",
       " 'X-averaged positive total SEI thickness [m]',\n",
       " 'X-averaged positive electrode resistance [Ohm.m2]',\n",
       " 'Positive electrode inner SEI interfacial current density [A.m-2]',\n",
       " 'X-averaged positive electrode inner SEI interfacial current density [A.m-2]',\n",
       " 'Positive electrode outer SEI interfacial current density [A.m-2]',\n",
       " 'X-averaged positive electrode outer SEI interfacial current density [A.m-2]',\n",
       " 'Positive electrode SEI interfacial current density [A.m-2]',\n",
       " 'X-averaged positive electrode SEI interfacial current density [A.m-2]',\n",
       " 'Negative inner SEI on cracks thickness [m]',\n",
       " 'Negative outer SEI on cracks thickness [m]',\n",
       " 'X-averaged negative inner SEI on cracks thickness [m]',\n",
       " 'X-averaged negative outer SEI on cracks thickness [m]',\n",
       " 'Negative SEI on cracks [m]',\n",
       " 'Negative total SEI on cracks thickness [m]',\n",
       " 'X-averaged negative SEI on cracks thickness [m]',\n",
       " 'X-averaged negative total SEI on cracks thickness [m]',\n",
       " 'Negative electrode inner SEI on cracks interfacial current density [A.m-2]',\n",
       " 'X-averaged negative electrode inner SEI on cracks interfacial current density [A.m-2]',\n",
       " 'Negative electrode outer SEI on cracks interfacial current density [A.m-2]',\n",
       " 'X-averaged negative electrode outer SEI on cracks interfacial current density [A.m-2]',\n",
       " 'Negative electrode SEI on cracks interfacial current density [A.m-2]',\n",
       " 'X-averaged negative electrode SEI on cracks interfacial current density [A.m-2]',\n",
       " 'Positive inner SEI on cracks thickness [m]',\n",
       " 'Positive outer SEI on cracks thickness [m]',\n",
       " 'X-averaged positive inner SEI on cracks thickness [m]',\n",
       " 'X-averaged positive outer SEI on cracks thickness [m]',\n",
       " 'Positive SEI on cracks [m]',\n",
       " 'Positive total SEI on cracks thickness [m]',\n",
       " 'X-averaged positive SEI on cracks thickness [m]',\n",
       " 'X-averaged positive total SEI on cracks thickness [m]',\n",
       " 'Positive electrode inner SEI on cracks interfacial current density [A.m-2]',\n",
       " 'X-averaged positive electrode inner SEI on cracks interfacial current density [A.m-2]',\n",
       " 'Positive electrode outer SEI on cracks interfacial current density [A.m-2]',\n",
       " 'X-averaged positive electrode outer SEI on cracks interfacial current density [A.m-2]',\n",
       " 'Positive electrode SEI on cracks interfacial current density [A.m-2]',\n",
       " 'X-averaged positive electrode SEI on cracks interfacial current density [A.m-2]',\n",
       " 'Negative lithium plating concentration [mol.m-3]',\n",
       " 'X-averaged negative lithium plating concentration [mol.m-3]',\n",
       " 'Negative dead lithium concentration [mol.m-3]',\n",
       " 'X-averaged negative dead lithium concentration [mol.m-3]',\n",
       " 'Negative lithium plating thickness [m]',\n",
       " 'X-averaged negative  lithium plating thickness [m]',\n",
       " 'Negative dead lithium thickness [m]',\n",
       " 'X-averaged negative dead lithium thickness [m]',\n",
       " 'Loss of lithium to negative lithium plating [mol]',\n",
       " 'Loss of capacity to negative lithium plating [A.h]',\n",
       " 'Negative electrode lithium plating reaction overpotential [V]',\n",
       " 'X-averaged negative electrode lithium plating reaction overpotential [V]',\n",
       " 'Negative electrode lithium plating interfacial current density [A.m-2]',\n",
       " 'X-averaged negative electrode lithium plating interfacial current density [A.m-2]',\n",
       " 'Positive lithium plating concentration [mol.m-3]',\n",
       " 'X-averaged positive lithium plating concentration [mol.m-3]',\n",
       " 'Positive dead lithium concentration [mol.m-3]',\n",
       " 'X-averaged positive dead lithium concentration [mol.m-3]',\n",
       " 'Positive lithium plating thickness [m]',\n",
       " 'X-averaged positive  lithium plating thickness [m]',\n",
       " 'Positive dead lithium thickness [m]',\n",
       " 'X-averaged positive dead lithium thickness [m]',\n",
       " 'Loss of lithium to positive lithium plating [mol]',\n",
       " 'Loss of capacity to positive lithium plating [A.h]',\n",
       " 'Positive electrode lithium plating reaction overpotential [V]',\n",
       " 'X-averaged positive electrode lithium plating reaction overpotential [V]',\n",
       " 'Positive electrode lithium plating interfacial current density [A.m-2]',\n",
       " 'X-averaged positive electrode lithium plating interfacial current density [A.m-2]',\n",
       " 'Negative crack surface to volume ratio [m-1]',\n",
       " 'Negative electrode roughness ratio',\n",
       " 'X-averaged negative electrode roughness ratio',\n",
       " 'Positive crack surface to volume ratio [m-1]',\n",
       " 'Positive electrode roughness ratio',\n",
       " 'X-averaged positive electrode roughness ratio',\n",
       " 'Electrolyte transport efficiency',\n",
       " 'Negative electrolyte transport efficiency',\n",
       " 'X-averaged negative electrolyte transport efficiency',\n",
       " 'Separator electrolyte transport efficiency',\n",
       " 'X-averaged separator electrolyte transport efficiency',\n",
       " 'Positive electrolyte transport efficiency',\n",
       " 'X-averaged positive electrolyte transport efficiency',\n",
       " 'Electrode transport efficiency',\n",
       " 'Negative electrode transport efficiency',\n",
       " 'X-averaged negative electrode transport efficiency',\n",
       " 'Separator electrode transport efficiency',\n",
       " 'X-averaged separator electrode transport efficiency',\n",
       " 'Positive electrode transport efficiency',\n",
       " 'X-averaged positive electrode transport efficiency',\n",
       " 'Separator volume-averaged velocity [m.s-1]',\n",
       " 'Separator volume-averaged acceleration [m.s-2]',\n",
       " 'X-averaged separator volume-averaged acceleration [m.s-2]',\n",
       " 'Volume-averaged velocity [m.s-1]',\n",
       " 'Volume-averaged acceleration [m.s-1]',\n",
       " 'X-averaged volume-averaged acceleration [m.s-1]',\n",
       " 'Pressure [Pa]',\n",
       " 'Negative electrode stoichiometry',\n",
       " 'Negative electrode volume-averaged concentration',\n",
       " 'Negative electrode volume-averaged concentration [mol.m-3]',\n",
       " 'Total lithium in primary phase in negative electrode [mol]',\n",
       " 'Positive electrode stoichiometry',\n",
       " 'Positive electrode volume-averaged concentration',\n",
       " 'Positive electrode volume-averaged concentration [mol.m-3]',\n",
       " 'Total lithium in primary phase in positive electrode [mol]',\n",
       " 'Negative electrode effective conductivity',\n",
       " 'Negative electrode current density [A.m-2]',\n",
       " 'Positive electrode effective conductivity',\n",
       " 'Positive electrode current density [A.m-2]',\n",
       " 'Electrode current density [A.m-2]',\n",
       " 'Positive current collector potential [V]',\n",
       " 'Local voltage [V]',\n",
       " 'Voltage expression [V]',\n",
       " 'Terminal voltage [V]',\n",
       " 'Contact overpotential [V]',\n",
       " 'Voltage [V]',\n",
       " 'Electrolyte concentration concatenation [mol.m-3]',\n",
       " 'Negative electrolyte concentration [mol.m-3]',\n",
       " 'X-averaged negative electrolyte concentration [mol.m-3]',\n",
       " 'Separator electrolyte concentration [mol.m-3]',\n",
       " 'X-averaged separator electrolyte concentration [mol.m-3]',\n",
       " 'Positive electrolyte concentration [mol.m-3]',\n",
       " 'X-averaged positive electrolyte concentration [mol.m-3]',\n",
       " 'Negative electrolyte concentration [Molar]',\n",
       " 'X-averaged negative electrolyte concentration [Molar]',\n",
       " 'Separator electrolyte concentration [Molar]',\n",
       " 'X-averaged separator electrolyte concentration [Molar]',\n",
       " 'Positive electrolyte concentration [Molar]',\n",
       " 'X-averaged positive electrolyte concentration [Molar]',\n",
       " 'Electrolyte concentration [mol.m-3]',\n",
       " 'X-averaged electrolyte concentration [mol.m-3]',\n",
       " 'Electrolyte concentration [Molar]',\n",
       " 'X-averaged electrolyte concentration [Molar]',\n",
       " 'Electrolyte current density [A.m-2]',\n",
       " 'X-averaged concentration overpotential [V]',\n",
       " 'X-averaged electrolyte ohmic losses [V]',\n",
       " 'Negative electrode surface potential difference [V]',\n",
       " 'Negative electrode surface potential difference at separator interface [V]',\n",
       " 'X-averaged negative electrode surface potential difference [V]',\n",
       " 'Positive electrode surface potential difference [V]',\n",
       " 'Positive electrode surface potential difference at separator interface [V]',\n",
       " 'X-averaged positive electrode surface potential difference [V]',\n",
       " 'Ohmic heating [W.m-3]',\n",
       " 'X-averaged Ohmic heating [W.m-3]',\n",
       " 'Volume-averaged Ohmic heating [W.m-3]',\n",
       " 'Ohmic heating per unit electrode-pair area [W.m-2]',\n",
       " 'Ohmic heating [W]',\n",
       " 'Irreversible electrochemical heating [W.m-3]',\n",
       " 'X-averaged irreversible electrochemical heating [W.m-3]',\n",
       " 'Volume-averaged irreversible electrochemical heating [W.m-3]',\n",
       " 'Irreversible electrochemical heating per unit electrode-pair area [W.m-2]',\n",
       " 'Irreversible electrochemical heating [W]',\n",
       " 'Reversible heating [W.m-3]',\n",
       " 'X-averaged reversible heating [W.m-3]',\n",
       " 'Volume-averaged reversible heating [W.m-3]',\n",
       " 'Reversible heating per unit electrode-pair area [W.m-2]',\n",
       " 'Reversible heating [W]',\n",
       " 'Total heating [W.m-3]',\n",
       " 'X-averaged total heating [W.m-3]',\n",
       " 'Volume-averaged total heating [W.m-3]',\n",
       " 'Total heating per unit electrode-pair area [W.m-2]',\n",
       " 'Total heating [W]',\n",
       " 'Negative current collector Ohmic heating [W.m-3]',\n",
       " 'Positive current collector Ohmic heating [W.m-3]',\n",
       " 'Surface total cooling [W.m-3]',\n",
       " 'Surface total cooling [W]',\n",
       " 'Surface temperature [K]',\n",
       " 'Volume-averaged surface temperature [K]',\n",
       " 'Environment total cooling [W]',\n",
       " 'Current collector current density [A.m-2]',\n",
       " 'Negative inner SEI concentration [mol.m-3]',\n",
       " 'X-averaged negative inner SEI concentration [mol.m-3]',\n",
       " 'Negative outer SEI concentration [mol.m-3]',\n",
       " 'X-averaged negative outer SEI concentration [mol.m-3]',\n",
       " 'Negative SEI concentration [mol.m-3]',\n",
       " 'X-averaged negative SEI concentration [mol.m-3]',\n",
       " 'Loss of lithium to negative SEI [mol]',\n",
       " 'Loss of capacity to negative SEI [A.h]',\n",
       " 'Negative electrode SEI volumetric interfacial current density [A.m-3]',\n",
       " 'X-averaged negative electrode SEI volumetric interfacial current density [A.m-3]',\n",
       " 'Positive inner SEI concentration [mol.m-3]',\n",
       " 'X-averaged positive inner SEI concentration [mol.m-3]',\n",
       " 'Positive outer SEI concentration [mol.m-3]',\n",
       " 'X-averaged positive outer SEI concentration [mol.m-3]',\n",
       " 'Positive SEI concentration [mol.m-3]',\n",
       " 'X-averaged positive SEI concentration [mol.m-3]',\n",
       " 'Loss of lithium to positive SEI [mol]',\n",
       " 'Loss of capacity to positive SEI [A.h]',\n",
       " 'Positive electrode SEI volumetric interfacial current density [A.m-3]',\n",
       " 'X-averaged positive electrode SEI volumetric interfacial current density [A.m-3]',\n",
       " 'Negative inner SEI on cracks concentration [mol.m-3]',\n",
       " 'X-averaged negative inner SEI on cracks concentration [mol.m-3]',\n",
       " 'Negative outer SEI on cracks concentration [mol.m-3]',\n",
       " 'X-averaged negative outer SEI on cracks concentration [mol.m-3]',\n",
       " 'Negative SEI on cracks concentration [mol.m-3]',\n",
       " 'X-averaged negative SEI on cracks concentration [mol.m-3]',\n",
       " 'Loss of lithium to negative SEI on cracks [mol]',\n",
       " 'Loss of capacity to negative SEI on cracks [A.h]',\n",
       " 'Negative electrode SEI on cracks volumetric interfacial current density [A.m-3]',\n",
       " 'X-averaged negative electrode SEI on cracks volumetric interfacial current density [A.m-3]',\n",
       " 'Positive inner SEI on cracks concentration [mol.m-3]',\n",
       " 'X-averaged positive inner SEI on cracks concentration [mol.m-3]',\n",
       " 'Positive outer SEI on cracks concentration [mol.m-3]',\n",
       " 'X-averaged positive outer SEI on cracks concentration [mol.m-3]',\n",
       " 'Positive SEI on cracks concentration [mol.m-3]',\n",
       " 'X-averaged positive SEI on cracks concentration [mol.m-3]',\n",
       " 'Loss of lithium to positive SEI on cracks [mol]',\n",
       " 'Loss of capacity to positive SEI on cracks [A.h]',\n",
       " 'Positive electrode SEI on cracks volumetric interfacial current density [A.m-3]',\n",
       " 'X-averaged positive electrode SEI on cracks volumetric interfacial current density [A.m-3]',\n",
       " 'Negative electrode lithium plating volumetric interfacial current density [A.m-3]',\n",
       " 'X-averaged negative electrode lithium plating volumetric interfacial current density [A.m-3]',\n",
       " 'Positive electrode lithium plating volumetric interfacial current density [A.m-3]',\n",
       " 'X-averaged positive electrode lithium plating volumetric interfacial current density [A.m-3]',\n",
       " 'Negative electrode open-circuit potential [V]',\n",
       " 'X-averaged negative electrode open-circuit potential [V]',\n",
       " 'Negative electrode bulk open-circuit potential [V]',\n",
       " 'Negative particle concentration overpotential [V]',\n",
       " 'Negative electrode entropic change [V.K-1]',\n",
       " 'X-averaged negative electrode entropic change [V.K-1]',\n",
       " 'Positive electrode open-circuit potential [V]',\n",
       " 'X-averaged positive electrode open-circuit potential [V]',\n",
       " 'Positive electrode bulk open-circuit potential [V]',\n",
       " 'Positive particle concentration overpotential [V]',\n",
       " 'Positive electrode entropic change [V.K-1]',\n",
       " 'X-averaged positive electrode entropic change [V.K-1]',\n",
       " 'Negative electrode interfacial current density [A.m-2]',\n",
       " 'X-averaged negative electrode interfacial current density [A.m-2]',\n",
       " 'X-averaged negative electrode total interfacial current density [A.m-2]',\n",
       " 'X-averaged negative electrode total volumetric interfacial current density [A.m-3]',\n",
       " 'Negative electrode exchange current density [A.m-2]',\n",
       " 'X-averaged negative electrode exchange current density [A.m-2]',\n",
       " 'Negative electrode reaction overpotential [V]',\n",
       " 'X-averaged negative electrode reaction overpotential [V]',\n",
       " 'Negative electrode volumetric interfacial current density [A.m-3]',\n",
       " 'X-averaged negative electrode volumetric interfacial current density [A.m-3]',\n",
       " 'Negative electrode SEI film overpotential [V]',\n",
       " 'X-averaged negative electrode SEI film overpotential [V]',\n",
       " 'Positive electrode interfacial current density [A.m-2]',\n",
       " 'X-averaged positive electrode interfacial current density [A.m-2]',\n",
       " 'X-averaged positive electrode total interfacial current density [A.m-2]',\n",
       " 'X-averaged positive electrode total volumetric interfacial current density [A.m-3]',\n",
       " 'Positive electrode exchange current density [A.m-2]',\n",
       " 'X-averaged positive electrode exchange current density [A.m-2]',\n",
       " 'Positive electrode reaction overpotential [V]',\n",
       " 'X-averaged positive electrode reaction overpotential [V]',\n",
       " 'Positive electrode volumetric interfacial current density [A.m-3]',\n",
       " 'X-averaged positive electrode volumetric interfacial current density [A.m-3]',\n",
       " 'Positive electrode SEI film overpotential [V]',\n",
       " 'X-averaged positive electrode SEI film overpotential [V]',\n",
       " 'Negative particle rhs [mol.m-3.s-1]',\n",
       " 'Negative particle bc [mol.m-4]',\n",
       " 'Negative particle effective diffusivity [m2.s-1]',\n",
       " 'X-averaged negative particle effective diffusivity [m2.s-1]',\n",
       " 'Volume-averaged negative particle effective diffusivity [m2.s-1]',\n",
       " 'Negative particle flux [mol.m-2.s-1]',\n",
       " 'Positive particle rhs [mol.m-3.s-1]',\n",
       " 'Positive particle bc [mol.m-4]',\n",
       " 'Positive particle effective diffusivity [m2.s-1]',\n",
       " 'X-averaged positive particle effective diffusivity [m2.s-1]',\n",
       " 'Volume-averaged positive particle effective diffusivity [m2.s-1]',\n",
       " 'Positive particle flux [mol.m-2.s-1]',\n",
       " 'Electrolyte flux [mol.m-2.s-1]',\n",
       " 'Electrolyte diffusion flux [mol.m-2.s-1]',\n",
       " 'Electrolyte migration flux [mol.m-2.s-1]',\n",
       " 'Electrolyte convection flux [mol.m-2.s-1]',\n",
       " 'Sum of negative electrode electrolyte reaction source terms [A.m-3]',\n",
       " 'Sum of x-averaged negative electrode electrolyte reaction source terms [A.m-3]',\n",
       " 'Sum of negative electrode volumetric interfacial current densities [A.m-3]',\n",
       " 'Sum of x-averaged negative electrode volumetric interfacial current densities [A.m-3]',\n",
       " 'Sum of positive electrode electrolyte reaction source terms [A.m-3]',\n",
       " 'Sum of x-averaged positive electrode electrolyte reaction source terms [A.m-3]',\n",
       " 'Sum of positive electrode volumetric interfacial current densities [A.m-3]',\n",
       " 'Sum of x-averaged positive electrode volumetric interfacial current densities [A.m-3]',\n",
       " 'Interfacial current density [A.m-2]',\n",
       " 'Exchange current density [A.m-2]',\n",
       " 'Sum of volumetric interfacial current densities [A.m-3]',\n",
       " 'Sum of electrolyte reaction source terms [A.m-3]',\n",
       " 'Surface open-circuit voltage [V]',\n",
       " 'Bulk open-circuit voltage [V]',\n",
       " 'Particle concentration overpotential [V]',\n",
       " 'X-averaged reaction overpotential [V]',\n",
       " 'X-averaged SEI film overpotential [V]',\n",
       " 'X-averaged solid phase ohmic losses [V]',\n",
       " 'Battery open-circuit voltage [V]',\n",
       " 'Battery negative electrode bulk open-circuit potential [V]',\n",
       " 'Battery positive electrode bulk open-circuit potential [V]',\n",
       " 'Battery particle concentration overpotential [V]',\n",
       " 'Battery negative particle concentration overpotential [V]',\n",
       " 'Battery positive particle concentration overpotential [V]',\n",
       " 'X-averaged battery reaction overpotential [V]',\n",
       " 'X-averaged battery negative reaction overpotential [V]',\n",
       " 'X-averaged battery positive reaction overpotential [V]',\n",
       " 'X-averaged battery solid phase ohmic losses [V]',\n",
       " 'X-averaged battery negative solid phase ohmic losses [V]',\n",
       " 'X-averaged battery positive solid phase ohmic losses [V]',\n",
       " 'X-averaged battery electrolyte ohmic losses [V]',\n",
       " 'X-averaged battery concentration overpotential [V]',\n",
       " 'Battery voltage [V]',\n",
       " 'Local ECM resistance [Ohm]',\n",
       " 'Terminal power [W]',\n",
       " 'Power [W]',\n",
       " 'Resistance [Ohm]',\n",
       " 'Total lithium in negative electrode [mol]',\n",
       " 'LAM_ne [%]',\n",
       " 'Loss of active material in negative electrode [%]',\n",
       " 'Total lithium in positive electrode [mol]',\n",
       " 'LAM_pe [%]',\n",
       " 'Loss of active material in positive electrode [%]',\n",
       " 'LLI [%]',\n",
       " 'Loss of lithium inventory [%]',\n",
       " 'Loss of lithium inventory, including electrolyte [%]',\n",
       " 'Total lithium [mol]',\n",
       " 'Total lithium in particles [mol]',\n",
       " 'Total lithium capacity [A.h]',\n",
       " 'Total lithium capacity in particles [A.h]',\n",
       " 'Total lithium lost [mol]',\n",
       " 'Total lithium lost from particles [mol]',\n",
       " 'Total lithium lost from electrolyte [mol]',\n",
       " 'Total lithium lost to side reactions [mol]',\n",
       " 'Total capacity lost to side reactions [A.h]']"
      ]
     },
     "execution_count": 9,
     "metadata": {},
     "output_type": "execute_result"
    }
   ],
   "source": [
    "model.variable_names()"
   ]
  },
  {
   "cell_type": "code",
   "execution_count": 10,
   "metadata": {},
   "outputs": [
    {
     "name": "stdout",
     "output_type": "stream",
     "text": [
      "Electrolyte concentration [Molar]\n",
      "Electrolyte concentration [mol.m-3]\n",
      "Electrolyte concentration concatenation [mol.m-3]\n",
      "Electrolyte convection flux [mol.m-2.s-1]\n",
      "Electrolyte current density [A.m-2]\n",
      "Electrolyte diffusion flux [mol.m-2.s-1]\n",
      "Electrolyte flux [mol.m-2.s-1]\n",
      "Electrolyte migration flux [mol.m-2.s-1]\n",
      "Electrolyte potential [V]\n",
      "Electrolyte transport efficiency\n",
      "Gradient of electrolyte potential [V.m-1]\n",
      "Gradient of negative electrolyte potential [V.m-1]\n",
      "Gradient of positive electrolyte potential [V.m-1]\n",
      "Gradient of separator electrolyte potential [V.m-1]\n",
      "Loss of lithium inventory, including electrolyte [%]\n",
      "Negative electrolyte concentration [Molar]\n",
      "Negative electrolyte concentration [mol.m-3]\n",
      "Negative electrolyte potential [V]\n",
      "Negative electrolyte transport efficiency\n",
      "Positive electrolyte concentration [Molar]\n",
      "Positive electrolyte concentration [mol.m-3]\n",
      "Positive electrolyte potential [V]\n",
      "Positive electrolyte transport efficiency\n",
      "Separator electrolyte concentration [Molar]\n",
      "Separator electrolyte concentration [mol.m-3]\n",
      "Separator electrolyte potential [V]\n",
      "Separator electrolyte transport efficiency\n",
      "Sum of electrolyte reaction source terms [A.m-3]\n",
      "Sum of negative electrode electrolyte reaction source terms [A.m-3]\n",
      "Sum of positive electrode electrolyte reaction source terms [A.m-3]\n",
      "Sum of x-averaged negative electrode electrolyte reaction source terms [A.m-3]\n",
      "Sum of x-averaged positive electrode electrolyte reaction source terms [A.m-3]\n",
      "Total lithium in electrolyte [mol]\n",
      "Total lithium lost from electrolyte [mol]\n",
      "X-averaged battery electrolyte ohmic losses [V]\n",
      "X-averaged electrolyte concentration [Molar]\n",
      "X-averaged electrolyte concentration [mol.m-3]\n",
      "X-averaged electrolyte ohmic losses [V]\n",
      "X-averaged electrolyte overpotential [V]\n",
      "X-averaged electrolyte potential [V]\n",
      "X-averaged negative electrolyte concentration [Molar]\n",
      "X-averaged negative electrolyte concentration [mol.m-3]\n",
      "X-averaged negative electrolyte potential [V]\n",
      "X-averaged negative electrolyte transport efficiency\n",
      "X-averaged positive electrolyte concentration [Molar]\n",
      "X-averaged positive electrolyte concentration [mol.m-3]\n",
      "X-averaged positive electrolyte potential [V]\n",
      "X-averaged positive electrolyte transport efficiency\n",
      "X-averaged separator electrolyte concentration [Molar]\n",
      "X-averaged separator electrolyte concentration [mol.m-3]\n",
      "X-averaged separator electrolyte potential [V]\n",
      "X-averaged separator electrolyte transport efficiency\n"
     ]
    }
   ],
   "source": [
    "model.variables.search(\"electrolyte\")"
   ]
  },
  {
   "cell_type": "code",
   "execution_count": 11,
   "metadata": {},
   "outputs": [
    {
     "data": {
      "application/vnd.jupyter.widget-view+json": {
       "model_id": "c0692471846a42beaa778e9207d9e97f",
       "version_major": 2,
       "version_minor": 0
      },
      "text/plain": [
       "interactive(children=(FloatSlider(value=0.0, description='t', max=1.0, step=0.01), Output()), _dom_classes=('w…"
      ]
     },
     "metadata": {},
     "output_type": "display_data"
    },
    {
     "data": {
      "text/plain": [
       "<pybamm.plotting.quick_plot.QuickPlot at 0x31d823440>"
      ]
     },
     "execution_count": 11,
     "metadata": {},
     "output_type": "execute_result"
    }
   ],
   "source": [
    "output_variables = [\"Electrolyte concentration [mol.m-3]\", \"Voltage [V]\"]\n",
    "sim.plot(output_variables=output_variables)"
   ]
  },
  {
   "cell_type": "code",
   "execution_count": 12,
   "metadata": {},
   "outputs": [
    {
     "data": {
      "application/vnd.jupyter.widget-view+json": {
       "model_id": "94fef581538142e5a8539133df9ea398",
       "version_major": 2,
       "version_minor": 0
      },
      "text/plain": [
       "interactive(children=(FloatSlider(value=0.0, description='t', max=1.0, step=0.01), Output()), _dom_classes=('w…"
      ]
     },
     "metadata": {},
     "output_type": "display_data"
    },
    {
     "data": {
      "text/plain": [
       "<pybamm.plotting.quick_plot.QuickPlot at 0x3188c18e0>"
      ]
     },
     "execution_count": 12,
     "metadata": {},
     "output_type": "execute_result"
    }
   ],
   "source": [
    "output_variables = [\"Voltage [V]\"]\n",
    "sim.plot(output_variables=output_variables)"
   ]
  },
  {
   "cell_type": "code",
   "execution_count": 13,
   "metadata": {},
   "outputs": [
    {
     "data": {
      "image/png": "[encoded data removed]",
      "text/plain": [
       "<Figure size 800x400 with 1 Axes>"
      ]
     },
     "metadata": {},
     "output_type": "display_data"
    },
    {
     "data": {
      "text/plain": [
       "(<Figure size 800x400 with 1 Axes>, <Axes: xlabel='Time [h]'>)"
      ]
     },
     "execution_count": 13,
     "metadata": {},
     "output_type": "execute_result"
    }
   ],
   "source": [
    "sim.plot_voltage_components()"
   ]
  },
  {
   "cell_type": "code",
   "execution_count": 14,
   "metadata": {},
   "outputs": [
    {
     "data": {
      "image/png": "[encoded data removed]",
      "text/plain": [
       "<Figure size 800x400 with 1 Axes>"
      ]
     },
     "metadata": {},
     "output_type": "display_data"
    },
    {
     "data": {
      "text/plain": [
       "(<Figure size 800x400 with 1 Axes>, <Axes: xlabel='Time [h]'>)"
      ]
     },
     "execution_count": 14,
     "metadata": {},
     "output_type": "execute_result"
    }
   ],
   "source": [
    "sim.plot_voltage_components(split_by_electrode=True)"
   ]
  },
  {
   "cell_type": "markdown",
   "metadata": {},
   "source": [
    "# How to change the whole parameter set\n"
   ]
  },
  {
   "cell_type": "code",
   "execution_count": 15,
   "metadata": {},
   "outputs": [],
   "source": [
    "parameter_values = pybamm.ParameterValues(\"Chen2020\")"
   ]
  },
  {
   "cell_type": "code",
   "execution_count": 16,
   "metadata": {},
   "outputs": [
    {
     "data": {
      "text/plain": [
       "{'Ambient temperature [K]': 298.15,\n",
       " 'Boltzmann constant [J.K-1]': 1.380649e-23,\n",
       " 'Bulk solvent concentration [mol.m-3]': 2636.0,\n",
       " 'Cation transference number': 0.2594,\n",
       " 'Cell cooling surface area [m2]': 0.00531,\n",
       " 'Cell thermal expansion coefficient [m.K-1]': 1.1e-06,\n",
       " 'Cell volume [m3]': 2.42e-05,\n",
       " 'Contact resistance [Ohm]': 0,\n",
       " 'Current function [A]': 5.0,\n",
       " 'EC diffusivity [m2.s-1]': 2e-18,\n",
       " 'EC initial concentration in electrolyte [mol.m-3]': 4541.0,\n",
       " 'Electrode height [m]': 0.065,\n",
       " 'Electrode width [m]': 1.58,\n",
       " 'Electrolyte conductivity [S.m-1]': <function electrolyte_conductivity_Nyman2008 at 0x31d8de2a0>,\n",
       " 'Electrolyte diffusivity [m2.s-1]': <function electrolyte_diffusivity_Nyman2008 at 0x31d8dd440>,\n",
       " 'Electron charge [C]': 1.602176634e-19,\n",
       " 'Faraday constant [C.mol-1]': 96485.33212,\n",
       " 'Ideal gas constant [J.K-1.mol-1]': 8.314462618,\n",
       " 'Initial concentration in electrolyte [mol.m-3]': 1000.0,\n",
       " 'Initial concentration in negative electrode [mol.m-3]': 29866.0,\n",
       " 'Initial concentration in positive electrode [mol.m-3]': 17038.0,\n",
       " 'Initial inner SEI thickness [m]': 2.5e-09,\n",
       " 'Initial outer SEI thickness [m]': 2.5e-09,\n",
       " 'Initial temperature [K]': 298.15,\n",
       " 'Inner SEI electron conductivity [S.m-1]': 8.95e-14,\n",
       " 'Inner SEI lithium interstitial diffusivity [m2.s-1]': 1e-20,\n",
       " 'Inner SEI open-circuit potential [V]': 0.1,\n",
       " 'Inner SEI partial molar volume [m3.mol-1]': 9.585e-05,\n",
       " 'Inner SEI reaction proportion': 0.5,\n",
       " 'Lithium interstitial reference concentration [mol.m-3]': 15.0,\n",
       " 'Lower voltage cut-off [V]': 2.5,\n",
       " 'Maximum concentration in negative electrode [mol.m-3]': 33133.0,\n",
       " 'Maximum concentration in positive electrode [mol.m-3]': 63104.0,\n",
       " 'Negative current collector conductivity [S.m-1]': 58411000.0,\n",
       " 'Negative current collector density [kg.m-3]': 8960.0,\n",
       " 'Negative current collector specific heat capacity [J.kg-1.K-1]': 385.0,\n",
       " 'Negative current collector thermal conductivity [W.m-1.K-1]': 401.0,\n",
       " 'Negative current collector thickness [m]': 1.2e-05,\n",
       " 'Negative electrode Bruggeman coefficient (electrode)': 0,\n",
       " 'Negative electrode Bruggeman coefficient (electrolyte)': 1.5,\n",
       " 'Negative electrode OCP [V]': <function graphite_LGM50_ocp_Chen2020 at 0x31a3bc7c0>,\n",
       " 'Negative electrode OCP entropic change [V.K-1]': 0.0,\n",
       " 'Negative electrode active material volume fraction': 0.75,\n",
       " 'Negative electrode charge transfer coefficient': 0.5,\n",
       " 'Negative electrode conductivity [S.m-1]': 215.0,\n",
       " 'Negative electrode density [kg.m-3]': 1657.0,\n",
       " 'Negative electrode double-layer capacity [F.m-2]': 0.2,\n",
       " 'Negative electrode exchange-current density [A.m-2]': <function graphite_LGM50_electrolyte_exchange_current_density_Chen2020 at 0x31bf5f2e0>,\n",
       " 'Negative electrode porosity': 0.25,\n",
       " 'Negative electrode reaction-driven LAM factor [m3.mol-1]': 0.0,\n",
       " 'Negative electrode specific heat capacity [J.kg-1.K-1]': 700.0,\n",
       " 'Negative electrode thermal conductivity [W.m-1.K-1]': 1.7,\n",
       " 'Negative electrode thickness [m]': 8.52e-05,\n",
       " 'Negative particle diffusivity [m2.s-1]': 3.3e-14,\n",
       " 'Negative particle radius [m]': 5.86e-06,\n",
       " 'Nominal cell capacity [A.h]': 5.0,\n",
       " 'Number of cells connected in series to make a battery': 1.0,\n",
       " 'Number of electrodes connected in parallel to make a cell': 1.0,\n",
       " 'Open-circuit voltage at 0% SOC [V]': 2.5,\n",
       " 'Open-circuit voltage at 100% SOC [V]': 4.2,\n",
       " 'Outer SEI open-circuit potential [V]': 0.8,\n",
       " 'Outer SEI partial molar volume [m3.mol-1]': 9.585e-05,\n",
       " 'Outer SEI solvent diffusivity [m2.s-1]': 2.5000000000000002e-22,\n",
       " 'Positive current collector conductivity [S.m-1]': 36914000.0,\n",
       " 'Positive current collector density [kg.m-3]': 2700.0,\n",
       " 'Positive current collector specific heat capacity [J.kg-1.K-1]': 897.0,\n",
       " 'Positive current collector thermal conductivity [W.m-1.K-1]': 237.0,\n",
       " 'Positive current collector thickness [m]': 1.6e-05,\n",
       " 'Positive electrode Bruggeman coefficient (electrode)': 0,\n",
       " 'Positive electrode Bruggeman coefficient (electrolyte)': 1.5,\n",
       " 'Positive electrode OCP [V]': <function nmc_LGM50_ocp_Chen2020 at 0x31bf5f7e0>,\n",
       " 'Positive electrode OCP entropic change [V.K-1]': 0.0,\n",
       " 'Positive electrode active material volume fraction': 0.665,\n",
       " 'Positive electrode charge transfer coefficient': 0.5,\n",
       " 'Positive electrode conductivity [S.m-1]': 0.18,\n",
       " 'Positive electrode density [kg.m-3]': 3262.0,\n",
       " 'Positive electrode double-layer capacity [F.m-2]': 0.2,\n",
       " 'Positive electrode exchange-current density [A.m-2]': <function nmc_LGM50_electrolyte_exchange_current_density_Chen2020 at 0x31d8dd620>,\n",
       " 'Positive electrode porosity': 0.335,\n",
       " 'Positive electrode reaction-driven LAM factor [m3.mol-1]': 0.0,\n",
       " 'Positive electrode specific heat capacity [J.kg-1.K-1]': 700.0,\n",
       " 'Positive electrode thermal conductivity [W.m-1.K-1]': 2.1,\n",
       " 'Positive electrode thickness [m]': 7.56e-05,\n",
       " 'Positive particle diffusivity [m2.s-1]': 4e-15,\n",
       " 'Positive particle radius [m]': 5.22e-06,\n",
       " 'Ratio of lithium moles to SEI moles': 2.0,\n",
       " 'Reference temperature [K]': 298.15,\n",
       " 'SEI growth activation energy [J.mol-1]': 0.0,\n",
       " 'SEI kinetic rate constant [m.s-1]': 1e-12,\n",
       " 'SEI open-circuit potential [V]': 0.4,\n",
       " 'SEI reaction exchange current density [A.m-2]': 1.5e-07,\n",
       " 'SEI resistivity [Ohm.m]': 200000.0,\n",
       " 'Separator Bruggeman coefficient (electrolyte)': 1.5,\n",
       " 'Separator density [kg.m-3]': 397.0,\n",
       " 'Separator porosity': 0.47,\n",
       " 'Separator specific heat capacity [J.kg-1.K-1]': 700.0,\n",
       " 'Separator thermal conductivity [W.m-1.K-1]': 0.16,\n",
       " 'Separator thickness [m]': 1.2e-05,\n",
       " 'Thermodynamic factor': 1.0,\n",
       " 'Total heat transfer coefficient [W.m-2.K-1]': 10.0,\n",
       " 'Upper voltage cut-off [V]': 4.2,\n",
       " 'citations': ['Chen2020']}"
      ]
     },
     "execution_count": 16,
     "metadata": {},
     "output_type": "execute_result"
    }
   ],
   "source": [
    "parameter_values"
   ]
  },
  {
   "cell_type": "code",
   "execution_count": 17,
   "metadata": {},
   "outputs": [
    {
     "data": {
      "text/plain": [
       "0.065"
      ]
     },
     "execution_count": 17,
     "metadata": {},
     "output_type": "execute_result"
    }
   ],
   "source": [
    "parameter_values[\"Electrode height [m]\"]"
   ]
  },
  {
   "cell_type": "code",
   "execution_count": 18,
   "metadata": {},
   "outputs": [
    {
     "name": "stdout",
     "output_type": "stream",
     "text": [
      "EC initial concentration in electrolyte [mol.m-3]\t4541.0\n",
      "Electrolyte conductivity [S.m-1]\t<function electrolyte_conductivity_Nyman2008 at 0x31d8de2a0>\n",
      "Electrolyte diffusivity [m2.s-1]\t<function electrolyte_diffusivity_Nyman2008 at 0x31d8dd440>\n",
      "Initial concentration in electrolyte [mol.m-3]\t1000.0\n",
      "Negative electrode Bruggeman coefficient (electrolyte)\t1.5\n",
      "Positive electrode Bruggeman coefficient (electrolyte)\t1.5\n",
      "Separator Bruggeman coefficient (electrolyte)\t1.5\n"
     ]
    }
   ],
   "source": [
    "parameter_values.search(\"electrolyte\")"
   ]
  },
  {
   "cell_type": "code",
   "execution_count": 19,
   "metadata": {},
   "outputs": [
    {
     "data": {
      "application/vnd.jupyter.widget-view+json": {
       "model_id": "959b937be5df4ecb98de93336da8d5a0",
       "version_major": 2,
       "version_minor": 0
      },
      "text/plain": [
       "interactive(children=(FloatSlider(value=0.0, description='t', max=3555.448018668048, step=35.55448018668048), …"
      ]
     },
     "metadata": {},
     "output_type": "display_data"
    },
    {
     "data": {
      "text/plain": [
       "<pybamm.plotting.quick_plot.QuickPlot at 0x31dd62690>"
      ]
     },
     "execution_count": 19,
     "metadata": {},
     "output_type": "execute_result"
    }
   ],
   "source": [
    "model = pybamm.lithium_ion.DFN()\n",
    "sim = pybamm.Simulation(model, parameter_values=parameter_values)\n",
    "sim.solve([0, 3600])\n",
    "sim.plot()\n"
   ]
  },
  {
   "cell_type": "markdown",
   "metadata": {},
   "source": [
    "We often want to quickly change a small number of parameter values to investigate how the behaviour or the battery changes. In such cases, we can change parameter values directly in notebook or script we are working in as we demonstrate in this section.\n",
    "\n",
    "Parameters can either have a constant value or be a function of a model variable. These dependencies are hardcoded into the PyBaMM models. In order to check what are the specific parameters that a model requires, and whether they must be constants or they can be functions, we can call the print_parameter_info method."
   ]
  },
  {
   "cell_type": "code",
   "execution_count": 20,
   "metadata": {},
   "outputs": [
    {
     "name": "stdout",
     "output_type": "stream",
     "text": [
      "┌───────────────────────────────────────────────────────────┬─────────────────────────────────────────────────────────────────────────────────────────────────────────────────────────────────────────────────────────────────────────────────────────────────────────────┐\n",
      "│ Parameter                                                 │ Type of parameter                                                                                                                                                                                           │\n",
      "├───────────────────────────────────────────────────────────┼─────────────────────────────────────────────────────────────────────────────────────────────────────────────────────────────────────────────────────────────────────────────────────────────────────────────┤\n",
      "│ Lower voltage cut-off [V]                                 │ Parameter                                                                                                                                                                                                   │\n",
      "│ Upper voltage cut-off [V]                                 │ Parameter                                                                                                                                                                                                   │\n",
      "│ Ideal gas constant [J.K-1.mol-1]                          │ Parameter                                                                                                                                                                                                   │\n",
      "│ Initial temperature [K]                                   │ Parameter                                                                                                                                                                                                   │\n",
      "│ Positive electrode Bruggeman coefficient (electrode)      │ Parameter                                                                                                                                                                                                   │\n",
      "│ Maximum concentration in positive electrode [mol.m-3]     │ Parameter                                                                                                                                                                                                   │\n",
      "│ Electrode height [m]                                      │ Parameter                                                                                                                                                                                                   │\n",
      "│ Reference temperature [K]                                 │ Parameter                                                                                                                                                                                                   │\n",
      "│ Maximum concentration in negative electrode [mol.m-3]     │ Parameter                                                                                                                                                                                                   │\n",
      "│ Electrode width [m]                                       │ Parameter                                                                                                                                                                                                   │\n",
      "│ Positive electrode Bruggeman coefficient (electrolyte)    │ Parameter                                                                                                                                                                                                   │\n",
      "│ Separator thickness [m]                                   │ Parameter                                                                                                                                                                                                   │\n",
      "│ Number of electrodes connected in parallel to make a cell │ Parameter                                                                                                                                                                                                   │\n",
      "│ Separator Bruggeman coefficient (electrolyte)             │ Parameter                                                                                                                                                                                                   │\n",
      "│ Number of cells connected in series to make a battery     │ Parameter                                                                                                                                                                                                   │\n",
      "│ Faraday constant [C.mol-1]                                │ Parameter                                                                                                                                                                                                   │\n",
      "│ Positive electrode thickness [m]                          │ Parameter                                                                                                                                                                                                   │\n",
      "│ Negative electrode thickness [m]                          │ Parameter                                                                                                                                                                                                   │\n",
      "│ Negative electrode Bruggeman coefficient (electrolyte)    │ Parameter                                                                                                                                                                                                   │\n",
      "│ Negative electrode Bruggeman coefficient (electrode)      │ Parameter                                                                                                                                                                                                   │\n",
      "│ Nominal cell capacity [A.h]                               │ Parameter                                                                                                                                                                                                   │\n",
      "│ Initial concentration in electrolyte [mol.m-3]            │ Parameter                                                                                                                                                                                                   │\n",
      "│ Ambient temperature [K]                                   │ FunctionParameter with inputs(s) 'Distance across electrode width [m]', 'Distance across electrode height [m]', 'Time [s]'                                                                                  │\n",
      "│ Negative electrode OCP entropic change [V.K-1]            │ FunctionParameter with inputs(s) 'Negative particle stoichiometry'                                                                                                                                          │\n",
      "│ Negative electrode conductivity [S.m-1]                   │ FunctionParameter with inputs(s) 'Temperature [K]'                                                                                                                                                          │\n",
      "│ Positive particle radius [m]                              │ FunctionParameter with inputs(s) 'Through-cell distance (x) [m]'                                                                                                                                            │\n",
      "│ Negative particle radius [m]                              │ FunctionParameter with inputs(s) 'Through-cell distance (x) [m]'                                                                                                                                            │\n",
      "│ Thermodynamic factor                                      │ FunctionParameter with inputs(s) 'Electrolyte concentration [mol.m-3]', 'Temperature [K]'                                                                                                                   │\n",
      "│ Cation transference number                                │ FunctionParameter with inputs(s) 'Electrolyte concentration [mol.m-3]', 'Temperature [K]'                                                                                                                   │\n",
      "│ Negative electrode porosity                               │ FunctionParameter with inputs(s) 'Through-cell distance (x) [m]'                                                                                                                                            │\n",
      "│ Positive electrode OCP entropic change [V.K-1]            │ FunctionParameter with inputs(s) 'Positive particle stoichiometry'                                                                                                                                          │\n",
      "│ Separator porosity                                        │ FunctionParameter with inputs(s) 'Through-cell distance (x) [m]'                                                                                                                                            │\n",
      "│ Positive electrode OCP [V]                                │ FunctionParameter with inputs(s) 'Positive particle stoichiometry'                                                                                                                                          │\n",
      "│ Positive electrode porosity                               │ FunctionParameter with inputs(s) 'Through-cell distance (x) [m]'                                                                                                                                            │\n",
      "│ Negative electrode active material volume fraction        │ FunctionParameter with inputs(s) 'Through-cell distance (x) [m]'                                                                                                                                            │\n",
      "│ Negative particle diffusivity [m2.s-1]                    │ FunctionParameter with inputs(s) 'Negative particle stoichiometry', 'Temperature [K]'                                                                                                                       │\n",
      "│ Negative electrode OCP [V]                                │ FunctionParameter with inputs(s) 'Negative particle stoichiometry'                                                                                                                                          │\n",
      "│ Positive electrode exchange-current density [A.m-2]       │ FunctionParameter with inputs(s) 'Electrolyte concentration [mol.m-3]', 'Positive particle surface concentration [mol.m-3]', 'Maximum positive particle surface concentration [mol.m-3]', 'Temperature [K]' │\n",
      "│ Current function [A]                                      │ FunctionParameter with inputs(s) 'Time [s]'                                                                                                                                                                 │\n",
      "│ Positive electrode conductivity [S.m-1]                   │ FunctionParameter with inputs(s) 'Temperature [K]'                                                                                                                                                          │\n",
      "│ Negative electrode exchange-current density [A.m-2]       │ FunctionParameter with inputs(s) 'Electrolyte concentration [mol.m-3]', 'Negative particle surface concentration [mol.m-3]', 'Maximum negative particle surface concentration [mol.m-3]', 'Temperature [K]' │\n",
      "│ Positive electrode active material volume fraction        │ FunctionParameter with inputs(s) 'Through-cell distance (x) [m]'                                                                                                                                            │\n",
      "│ Electrolyte diffusivity [m2.s-1]                          │ FunctionParameter with inputs(s) 'Electrolyte concentration [mol.m-3]', 'Temperature [K]'                                                                                                                   │\n",
      "│ Initial concentration in negative electrode [mol.m-3]     │ FunctionParameter with inputs(s) 'Radial distance (r) [m]', 'Through-cell distance (x) [m]'                                                                                                                 │\n",
      "│ Positive particle diffusivity [m2.s-1]                    │ FunctionParameter with inputs(s) 'Positive particle stoichiometry', 'Temperature [K]'                                                                                                                       │\n",
      "│ Initial concentration in positive electrode [mol.m-3]     │ FunctionParameter with inputs(s) 'Radial distance (r) [m]', 'Through-cell distance (x) [m]'                                                                                                                 │\n",
      "│ Electrolyte conductivity [S.m-1]                          │ FunctionParameter with inputs(s) 'Electrolyte concentration [mol.m-3]', 'Temperature [K]'                                                                                                                   │\n",
      "└───────────────────────────────────────────────────────────┴─────────────────────────────────────────────────────────────────────────────────────────────────────────────────────────────────────────────────────────────────────────────────────────────────────────────┘\n",
      "\n"
     ]
    }
   ],
   "source": [
    "model.print_parameter_info()"
   ]
  },
  {
   "cell_type": "markdown",
   "metadata": {},
   "source": [
    "The table shows all the parameters that need to be provided to the model (in this case DFN). For example, we see that we need to define (amongst others) the Negative electrode thickness [m], which is defined to be a Parameter. This means it can only have a constant value. In contrast, other parameters are defined to be a FunctionParameter, which means that they can depend on model variables. For example, the Current function [A] is a FunctionParameter that can depend on Time [s].\n",
    "\n",
    "Note that a FunctionParameter can always be defined to be a constant (i.e. like if it was a Parameter), but a Parameter cannot be defined to be a function. This is because these dependencies are hardcoded in the model definitions."
   ]
  },
  {
   "cell_type": "code",
   "execution_count": 21,
   "metadata": {},
   "outputs": [],
   "source": [
    "parameter_values[\"Current function [A]\"] = 10"
   ]
  },
  {
   "cell_type": "code",
   "execution_count": 22,
   "metadata": {},
   "outputs": [
    {
     "data": {
      "application/vnd.jupyter.widget-view+json": {
       "model_id": "87f197175a9f44e3b2e7656fcf285bde",
       "version_major": 2,
       "version_minor": 0
      },
      "text/plain": [
       "interactive(children=(FloatSlider(value=0.0, description='t', max=1703.0716533917332, step=17.03071653391733),…"
      ]
     },
     "metadata": {},
     "output_type": "display_data"
    },
    {
     "data": {
      "text/plain": [
       "<pybamm.plotting.quick_plot.QuickPlot at 0x31cf2cc50>"
      ]
     },
     "execution_count": 22,
     "metadata": {},
     "output_type": "execute_result"
    }
   ],
   "source": [
    "sim = pybamm.Simulation(model, parameter_values=parameter_values)\n",
    "sim.solve([0, 3600])\n",
    "sim.plot()"
   ]
  },
  {
   "cell_type": "code",
   "execution_count": 23,
   "metadata": {},
   "outputs": [],
   "source": [
    "import numpy as np\n",
    "\n",
    "\n",
    "def my_current(t):\n",
    "    return pybamm.sin(2 * np.pi * t / 60)\n",
    "\n",
    "\n",
    "parameter_values[\"Current function [A]\"] = my_current"
   ]
  },
  {
   "cell_type": "markdown",
   "metadata": {},
   "source": [
    "PyBaMM will assume that the arguments are defined exactly as in the print_parameter_info table above, so the actual name given to the arguments does not matter, but the order does. For example, for the Electrolyte conductivity [S.m-1], it will assume that the first argument is Electrolyte concentration [mol.m-3] and the second is Temperature [K]."
   ]
  },
  {
   "cell_type": "markdown",
   "metadata": {},
   "source": [
    "We can now solve the model again. In this case, we will pass t_eval to be an array of the points we want to evaluate our solution to the solver (rather than the start and end points only) to make sure we have enough time points to resolve the sinusoidal function in our output."
   ]
  },
  {
   "cell_type": "code",
   "execution_count": 24,
   "metadata": {},
   "outputs": [
    {
     "data": {
      "application/vnd.jupyter.widget-view+json": {
       "model_id": "cd9c919aa3584995a582cb28b2202224",
       "version_major": 2,
       "version_minor": 0
      },
      "text/plain": [
       "interactive(children=(FloatSlider(value=0.0, description='t', max=120.0, step=1.2), Output()), _dom_classes=('…"
      ]
     },
     "metadata": {},
     "output_type": "display_data"
    },
    {
     "data": {
      "text/plain": [
       "<pybamm.plotting.quick_plot.QuickPlot at 0x31f2cfd70>"
      ]
     },
     "execution_count": 24,
     "metadata": {},
     "output_type": "execute_result"
    }
   ],
   "source": [
    "sim = pybamm.Simulation(model, parameter_values=parameter_values)\n",
    "t_eval = np.arange(0, 121, 1)\n",
    "sim.solve(t_eval=t_eval)\n",
    "sim.plot([\"Current [A]\", \"Voltage [V]\"])\n"
   ]
  },
  {
   "cell_type": "markdown",
   "metadata": {},
   "source": [
    "Input parameters\n",
    "\n",
    "If the value of a parameter is expected to change often (e.g. running a parameter sweep) is is more convenient to set a parameter as an “input parameter”. This is a placeholder that can be filled in with a numerical value when the model is solved.\n",
    "\n",
    "To set a parameter as an input parameter, we can set its value to the string [input] in the parameter values dictionary. For example, we can set the Current function [A] to be an input parameter and then run a parameter sweep over different current values like so:"
   ]
  },
  {
   "cell_type": "code",
   "execution_count": 25,
   "metadata": {},
   "outputs": [
    {
     "data": {
      "image/png": "[encoded data removed]",
      "text/plain": [
       "<Figure size 640x480 with 1 Axes>"
      ]
     },
     "metadata": {},
     "output_type": "display_data"
    }
   ],
   "source": [
    "import matplotlib.pyplot as plt\n",
    "\n",
    "parameter_values[\"Current function [A]\"] = \"[input]\"\n",
    "sim = pybamm.Simulation(model, parameter_values=parameter_values)\n",
    "solns = []\n",
    "for c in [0.1, 0.2, 0.3]:\n",
    "    soln = sim.solve([0, 3600], inputs={\"Current function [A]\": c})\n",
    "    plt.plot(soln[\"Time [s]\"].entries, soln[\"Voltage [V]\"].entries, label=f\"{c} A\")\n",
    "    solns.append(soln[\"Terminal voltage [V]\"].entries)\n",
    "plt.xlabel(\"Time [s]\")\n",
    "plt.ylabel(\"Terminal voltage [V]\")\n",
    "plt.legend()\n",
    "plt.show()"
   ]
  },
  {
   "cell_type": "markdown",
   "metadata": {},
   "source": [
    "It is often convenient to define the parameter set in a separate file, and then call the parameters into your notebook or script. You can find some examples on how to do so in PyBaMM’s parameter library. You can copy one of the parameter sets available into a new file and modify it accordingly for the new parameter set. Then, whenever the set is needed, one can import the get_parameter_values method from the corresponding file and call it to obtain a copy of the parameter values."
   ]
  },
  {
   "cell_type": "markdown",
   "metadata": {},
   "source": [
    "# How to run experiements\n",
    "in some cases we might want to prescribe a given voltage, a given power or switch between different conditions to simulate experimental setups. We can use the Experiment class for these simulations."
   ]
  },
  {
   "cell_type": "markdown",
   "metadata": {},
   "source": [
    "We start defining an experiment, which consists on a set of instructions on how to cycle the battery. These instructions can be defined in two different ways, but the simplest is to use strings. The instructions can be of the form \"(Dis)charge at x A/C/W\", \"Rest\", or \"Hold at x V\". The instructions can also include how long each step should run for. The duration is introduced by the word \"for\" followed by the duration, e.g. \"for 10 seconds\", \"for 3 minutes\" or \"for 1 hour\". Terminating conditions can also be specified. In this case, the step will stop when that condition is met. These conditions should be a circuit state and are introduced by the word \"until\", e.g. \"until 1 A\", \"until C/50\" or \"until 3 V\". Duration and termination conditions can be combined using the word \"or\" and the step will either finish when the condition is met or after the specified duration (whichever happens first).\n",
    "\n",
    "Some examples of experiment instructions are:"
   ]
  },
  {
   "cell_type": "code",
   "execution_count": 26,
   "metadata": {},
   "outputs": [
    {
     "data": {
      "text/plain": [
       "('Hold at 3V until C/50',)"
      ]
     },
     "execution_count": 26,
     "metadata": {},
     "output_type": "execute_result"
    }
   ],
   "source": [
    "\"Discharge at 1C for 0.5 hours\",\n",
    "\"Discharge at C/20 for 0.5 hours\",\n",
    "\"Charge at 0.5 C for 45 minutes\",\n",
    "\"Discharge at 1 A for 90 seconds\",\n",
    "\"Charge at 200mA for 45 minutes\",\n",
    "\"Discharge at 1 W for 0.5 hours\",\n",
    "\"Charge at 200 mW for 45 minutes\",\n",
    "\"Rest for 10 minutes\",\n",
    "\"Hold at 1 V for 20 seconds\",\n",
    "\"Charge at 1 C until 4.1V\",\n",
    "\"Hold at 4.1 V until 50 mA\",\n",
    "\"Hold at 3V until C/50\","
   ]
  },
  {
   "cell_type": "markdown",
   "metadata": {},
   "source": [
    "These steps can be concatenated in a list, so they are executed sequentially. To create an experiment, the list can then be passed when creating an Experiment object:"
   ]
  },
  {
   "cell_type": "code",
   "execution_count": 27,
   "metadata": {},
   "outputs": [],
   "source": [
    "experiment = pybamm.Experiment(\n",
    "    [\n",
    "        \"Discharge at C/10 for 10 hours or until 3.3 V\",\n",
    "        \"Rest for 1 hour\",\n",
    "        \"Charge at 1 A until 4.1 V\",\n",
    "        \"Hold at 4.1 V until 50 mA\",\n",
    "        \"Rest for 1 hour\",\n",
    "    ]\n",
    ")"
   ]
  },
  {
   "cell_type": "markdown",
   "metadata": {},
   "source": [
    "In order to reproduce real cycling conditions, often the experiments will be composed of several “cycles”, where a cycle is a user-defined collection of steps. In PyBaMM, we can define a cycle as a tuple of steps, which means that we can process the solution in terms of cycles. For more information on this functionality, please see the long experiments notebook. We can also leverage the list addition and multiplication operators to combine and repeat cycles. For example, if we want a three cycles of constant current C/10 discharge, a one hour rest, a constant current (1 A) constant voltage (4.1 V) and another one hour rest, followed by a cycle of 1C discharge we can write:"
   ]
  },
  {
   "cell_type": "code",
   "execution_count": null,
   "metadata": {},
   "outputs": [],
   "source": [
    "experiment = pybamm.Experiment(\n",
    "    [\n",
    "        (\n",
    "            \"Discharge at C/10 for 10 hours or until 3.3 V\",\n",
    "            \"Rest for 1 hour\",\n",
    "            \"Charge at 1 A until 4.1 V\",\n",
    "            \"Hold at 4.1 V until 50 mA\",\n",
    "            \"Rest for 1 hour\",\n",
    "        )\n",
    "    ]\n",
    "    * 3\n",
    "    + [\n",
    "        \"Discharge at 1C until 3.3 V\",\n",
    "    ]\n",
    ")"
   ]
  },
  {
   "cell_type": "markdown",
   "metadata": {},
   "source": [
    "Then we can choose our model and create our simulation, passing our experiment using a keyword argument"
   ]
  },
  {
   "cell_type": "code",
   "execution_count": 28,
   "metadata": {},
   "outputs": [],
   "source": [
    "model = pybamm.lithium_ion.DFN()\n",
    "sim = pybamm.Simulation(model, experiment=experiment)\n"
   ]
  },
  {
   "cell_type": "markdown",
   "metadata": {},
   "source": [
    "We then solve and plot the solution"
   ]
  },
  {
   "cell_type": "code",
   "execution_count": 29,
   "metadata": {},
   "outputs": [
    {
     "name": "stderr",
     "output_type": "stream",
     "text": [
      "At t = 339.952, , mxstep steps taken before reaching tout.\n"
     ]
    },
    {
     "data": {
      "application/vnd.jupyter.widget-view+json": {
       "model_id": "57707b96fd174a81b36fc760e9bbc147",
       "version_major": 2,
       "version_minor": 0
      },
      "text/plain": [
       "interactive(children=(FloatSlider(value=0.0, description='t', max=13.076887102336224, step=0.13076887102336224…"
      ]
     },
     "metadata": {},
     "output_type": "display_data"
    },
    {
     "data": {
      "text/plain": [
       "<pybamm.plotting.quick_plot.QuickPlot at 0x31ec1a9c0>"
      ]
     },
     "execution_count": 29,
     "metadata": {},
     "output_type": "execute_result"
    }
   ],
   "source": [
    "\n",
    "\n",
    "sim.solve()\n",
    "sim.plot()\n"
   ]
  },
  {
   "cell_type": "markdown",
   "metadata": {},
   "source": [
    "The solution variable in the simulation object has a cycles variable that allows to access the solution for a specific cycle. That solution can be processed and plotted as usual. For example, if we want to plot the first cycle only we can do"
   ]
  },
  {
   "cell_type": "code",
   "execution_count": 31,
   "metadata": {},
   "outputs": [
    {
     "data": {
      "application/vnd.jupyter.widget-view+json": {
       "model_id": "0dafd78e1943468487ffc1b60e90b82f",
       "version_major": 2,
       "version_minor": 0
      },
      "text/plain": [
       "interactive(children=(FloatSlider(value=11.000000000000002, description='t', max=11.766837211960748, min=11.00…"
      ]
     },
     "metadata": {},
     "output_type": "display_data"
    },
    {
     "data": {
      "text/plain": [
       "<pybamm.plotting.quick_plot.QuickPlot at 0x32a4162d0>"
      ]
     },
     "execution_count": 31,
     "metadata": {},
     "output_type": "execute_result"
    }
   ],
   "source": [
    "sim.solution.cycles[2].plot()"
   ]
  },
  {
   "cell_type": "markdown",
   "metadata": {},
   "source": []
  },
  {
   "cell_type": "code",
   "execution_count": 32,
   "metadata": {},
   "outputs": [
    {
     "data": {
      "text/plain": [
       "Step(1.0, duration=1 hour, period=1 minute, temperature=25oC, tags=['tag1'], description=Discharge at 1C for 1 hour, direction=Discharge)"
      ]
     },
     "execution_count": 32,
     "metadata": {},
     "output_type": "execute_result"
    }
   ],
   "source": [
    "pybamm.step.string(\n",
    "    \"Discharge at 1C for 1 hour\", period=\"1 minute\", temperature=\"25oC\", tags=[\"tag1\"]\n",
    ")"
   ]
  },
  {
   "cell_type": "markdown",
   "metadata": {},
   "source": [
    "# Managing simulation outputs\n",
    "In the previous tutorials we have interacted with the outputs of the simulation via the default plotting functionality. However, usually we need to access the output data to manipulate it or transfer to another software, which is the topic of this notebook.\n",
    "\n"
   ]
  },
  {
   "cell_type": "code",
   "execution_count": 34,
   "metadata": {},
   "outputs": [
    {
     "data": {
      "text/plain": [
       "<pybamm.solvers.solution.Solution at 0x32ab56270>"
      ]
     },
     "execution_count": 34,
     "metadata": {},
     "output_type": "execute_result"
    }
   ],
   "source": [
    "# we start by building and solving a model : \n",
    "\n",
    "model = pybamm.lithium_ion.SPMe()\n",
    "sim = pybamm.Simulation(model)\n",
    "sim.solve([0, 3600])"
   ]
  },
  {
   "cell_type": "code",
   "execution_count": 35,
   "metadata": {},
   "outputs": [],
   "source": [
    "solution = sim.solution"
   ]
  },
  {
   "cell_type": "code",
   "execution_count": 36,
   "metadata": {},
   "outputs": [
    {
     "data": {
      "text/plain": [
       "<pybamm.solvers.solution.Solution at 0x32ab56270>"
      ]
     },
     "execution_count": 36,
     "metadata": {},
     "output_type": "execute_result"
    }
   ],
   "source": [
    "solution"
   ]
  },
  {
   "cell_type": "code",
   "execution_count": 37,
   "metadata": {},
   "outputs": [],
   "source": [
    "t = solution[\"Time [s]\"]\n",
    "V = solution[\"Voltage [V]\"]"
   ]
  },
  {
   "cell_type": "code",
   "execution_count": 38,
   "metadata": {},
   "outputs": [
    {
     "data": {
      "text/plain": [
       "array([3.77057396, 3.75319038, 3.7457915 , 3.74050212, 3.73592279,\n",
       "       3.73164332, 3.72753276, 3.72354826, 3.71967566, 3.71591122,\n",
       "       3.71225551, 3.70870984, 3.70527536, 3.70195259, 3.69874152,\n",
       "       3.69564164, 3.69265192, 3.68977078, 3.6869962 , 3.68432579,\n",
       "       3.68175681, 3.67928624, 3.67691079, 3.67462692, 3.67243081,\n",
       "       3.67031838, 3.66828523, 3.66632651, 3.66443681, 3.66260997,\n",
       "       3.66083875, 3.65911439, 3.65742609, 3.65576015, 3.654099  ,\n",
       "       3.65241994, 3.65069368, 3.6488831 , 3.6469425 , 3.64481864,\n",
       "       3.64245489, 3.63980029, 3.63682425, 3.6335347 , 3.6299929 ,\n",
       "       3.62631469, 3.62265168, 3.61915659, 3.61594814, 3.61309112,\n",
       "       3.61059684, 3.60843741, 3.60656398, 3.60492174, 3.60345926,\n",
       "       3.60213291, 3.60090803, 3.59975826, 3.59866435, 3.59761271,\n",
       "       3.59659416, 3.59560291, 3.5946357 , 3.59369119, 3.59276942,\n",
       "       3.59187135, 3.59099853, 3.59015263, 3.58933506, 3.58854653,\n",
       "       3.58778657, 3.58705297, 3.58634124, 3.58564407, 3.58495075,\n",
       "       3.58424677, 3.58351338, 3.58272742, 3.58186115, 3.58088223,\n",
       "       3.57975365, 3.57843347, 3.57687411, 3.5750208 , 3.5728088 ,\n",
       "       3.57015853, 3.56696798, 3.5631009 , 3.55836938, 3.55250806,\n",
       "       3.54513703, 3.53570853, 3.52343143, 3.50716564, 3.48527745,\n",
       "       3.45544724, 3.41442683, 3.35775933, 3.27951089, 3.17213167])"
      ]
     },
     "execution_count": 38,
     "metadata": {},
     "output_type": "execute_result"
    }
   ],
   "source": [
    "V.entries"
   ]
  },
  {
   "cell_type": "markdown",
   "metadata": {},
   "source": [
    "post-processed variables can be called at any time, which will return the interpolated value from the data above"
   ]
  },
  {
   "cell_type": "code",
   "execution_count": 39,
   "metadata": {},
   "outputs": [
    {
     "data": {
      "text/plain": [
       "array([3.72958804, 3.70870984, 3.67821729, 3.65411561])"
      ]
     },
     "execution_count": 39,
     "metadata": {},
     "output_type": "execute_result"
    }
   ],
   "source": [
    "V([200, 400, 780, 1236])  # times in seconds"
   ]
  },
  {
   "cell_type": "code",
   "execution_count": 40,
   "metadata": {},
   "outputs": [],
   "source": [
    "#to save the simulation : \n",
    "sim.save(\"SPMe.pkl\")"
   ]
  },
  {
   "cell_type": "markdown",
   "metadata": {},
   "source": [
    "If you now check the root directory of your notebooks you will notice that a new file called \"SPMe.pkl\" has appeared. We can load the stored simulation doing"
   ]
  },
  {
   "cell_type": "code",
   "execution_count": 41,
   "metadata": {},
   "outputs": [],
   "source": [
    "sim2 = pybamm.load(\"SPMe.pkl\")"
   ]
  },
  {
   "cell_type": "markdown",
   "metadata": {},
   "source": [
    "Note that while exporting .pkl works for all variables, exporting to .csv and .mat only works for 0D variables (i.e. variables the do not depend on space, only on time)."
   ]
  },
  {
   "cell_type": "code",
   "execution_count": null,
   "metadata": {},
   "outputs": [],
   "source": []
  }
 ],
 "metadata": {
  "kernelspec": {
   "display_name": ".venv",
   "language": "python",
   "name": "python3"
  },
  "language_info": {
   "codemirror_mode": {
    "name": "ipython",
    "version": 3
   },
   "file_extension": ".py",
   "mimetype": "text/x-python",
   "name": "python",
   "nbconvert_exporter": "python",
   "pygments_lexer": "ipython3",
   "version": "3.12.4"
  }
 },
 "nbformat": 4,
 "nbformat_minor": 2
}
